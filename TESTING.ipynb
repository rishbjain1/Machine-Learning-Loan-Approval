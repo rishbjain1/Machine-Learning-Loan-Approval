{
 "cells": [
  {
   "cell_type": "markdown",
   "id": "f6302a26",
   "metadata": {
    "id": "f6302a26",
    "toc": true
   },
   "source": [
    "<h1>Table of Contents<span class=\"tocSkip\"></span></h1>\n",
    "<div class=\"toc\"><ul class=\"toc-item\"><li><span><a href=\"#Import-and-Load-Data\" data-toc-modified-id=\"Import-and-Load-Data-1\"><span class=\"toc-item-num\">1&nbsp;&nbsp;</span>Import and Load Data</a></span></li><li><span><a href=\"#Preprocessing\" data-toc-modified-id=\"Preprocessing-2\"><span class=\"toc-item-num\">2&nbsp;&nbsp;</span>Preprocessing</a></span></li><li><span><a href=\"#Trying-Out-Models\" data-toc-modified-id=\"Trying-Out-Models-3\"><span class=\"toc-item-num\">3&nbsp;&nbsp;</span>Trying Out Models</a></span><ul class=\"toc-item\"><li><span><a href=\"#Logistic-Regression\" data-toc-modified-id=\"Logistic-Regression-3.1\"><span class=\"toc-item-num\">3.1&nbsp;&nbsp;</span>Logistic Regression</a></span></li><li><span><a href=\"#Support-Vector-Machine\" data-toc-modified-id=\"Support-Vector-Machine-3.2\"><span class=\"toc-item-num\">3.2&nbsp;&nbsp;</span>Support Vector Machine</a></span></li><li><span><a href=\"#Decision-Trees-(Random-Forest,-Gradient-Boosting,-XGBoost)\" data-toc-modified-id=\"Decision-Trees-(Random-Forest,-Gradient-Boosting,-XGBoost)-3.3\"><span class=\"toc-item-num\">3.3&nbsp;&nbsp;</span>Decision Trees (Random Forest, Gradient Boosting, XGBoost)</a></span></li><li><span><a href=\"#Other-Models-(e.g.-Bagging-Classifier)\" data-toc-modified-id=\"Other-Models-(e.g.-Bagging-Classifier)-3.4\"><span class=\"toc-item-num\">3.4&nbsp;&nbsp;</span>Other Models (e.g. Bagging Classifier)</a></span></li></ul></li><li><span><a href=\"#Model-Evaluation\" data-toc-modified-id=\"Model-Evaluation-4\"><span class=\"toc-item-num\">4&nbsp;&nbsp;</span>Model Evaluation</a></span></li></ul></div>"
   ]
  },
  {
   "cell_type": "markdown",
   "id": "b9a31f2b",
   "metadata": {
    "id": "b9a31f2b"
   },
   "source": [
    "## Import and Load Data"
   ]
  },
  {
   "cell_type": "code",
   "execution_count": 1,
   "id": "9725cdaa",
   "metadata": {
    "executionInfo": {
     "elapsed": 906,
     "status": "ok",
     "timestamp": 1708568837448,
     "user": {
      "displayName": "Davin Patel",
      "userId": "13701795561443417032"
     },
     "user_tz": 480
    },
    "id": "9725cdaa"
   },
   "outputs": [],
   "source": [
    "import pandas as pd\n",
    "import numpy as np\n",
    "from sklearn.model_selection import train_test_split, GridSearchCV\n",
    "from sklearn.preprocessing import StandardScaler, OneHotEncoder, OrdinalEncoder\n",
    "from sklearn.compose import ColumnTransformer\n",
    "from sklearn.pipeline import Pipeline\n",
    "from sklearn.linear_model import LogisticRegression\n",
    "from sklearn.linear_model import Lasso, ElasticNet\n",
    "from sklearn.svm import SVC\n",
    "from sklearn.tree import DecisionTreeClassifier\n",
    "from sklearn.ensemble import RandomForestClassifier, GradientBoostingClassifier\n",
    "from xgboost import XGBClassifier\n",
    "from sklearn.impute import SimpleImputer\n",
    "from sklearn.metrics import accuracy_score, precision_score, recall_score, f1_score, roc_auc_score"
   ]
  },
  {
   "cell_type": "code",
   "execution_count": 2,
   "id": "9da6fb46",
   "metadata": {
    "colab": {
     "base_uri": "https://localhost:8080/"
    },
    "executionInfo": {
     "elapsed": 11837,
     "status": "ok",
     "timestamp": 1708568850837,
     "user": {
      "displayName": "Davin Patel",
      "userId": "13701795561443417032"
     },
     "user_tz": 480
    },
    "id": "9da6fb46",
    "outputId": "c9ef0a98-0640-43be-d2d5-89de0b9bd89e"
   },
   "outputs": [
    {
     "name": "stderr",
     "output_type": "stream",
     "text": [
      "/var/folders/vm/_8lh9zpx0vbc_x2bq621qrhc0000gn/T/ipykernel_55059/169176997.py:1: DtypeWarning: Columns (20,56) have mixed types. Specify dtype option on import or set low_memory=False.\n",
      "  df = pd.read_csv(\"loans.csv\")\n"
     ]
    }
   ],
   "source": [
    "df = pd.read_csv(\"loans.csv\")"
   ]
  },
  {
   "cell_type": "markdown",
   "id": "481e6bb3",
   "metadata": {
    "id": "481e6bb3"
   },
   "source": [
    "## Preprocessing\n",
    "\n",
    " - Handle missing values\n",
    " - Encode categorical variables, scale data (if you wish), feature selection, etc.\n",
    " - Split the dataset into features (X) and target variable (y)\n",
    " - Split into training and testing sets"
   ]
  },
  {
   "cell_type": "code",
   "execution_count": 3,
   "id": "69aa64f5-1cc3-47af-8dc6-815c335604e2",
   "metadata": {
    "executionInfo": {
     "elapsed": 223,
     "status": "ok",
     "timestamp": 1708568863138,
     "user": {
      "displayName": "Davin Patel",
      "userId": "13701795561443417032"
     },
     "user_tz": 480
    },
    "id": "69aa64f5-1cc3-47af-8dc6-815c335604e2"
   },
   "outputs": [],
   "source": [
    "threshold = len(df) * 0.10 # 90% threshold"
   ]
  },
  {
   "cell_type": "code",
   "execution_count": 4,
   "id": "fe29c56c-27d7-4d06-a1da-5f6201bf9109",
   "metadata": {
    "executionInfo": {
     "elapsed": 2274,
     "status": "ok",
     "timestamp": 1708568867450,
     "user": {
      "displayName": "Davin Patel",
      "userId": "13701795561443417032"
     },
     "user_tz": 480
    },
    "id": "fe29c56c-27d7-4d06-a1da-5f6201bf9109"
   },
   "outputs": [],
   "source": [
    "df_cleaned = df.dropna(axis = 1, thresh = threshold) # dropped columns that have more than 80% missing values"
   ]
  },
  {
   "cell_type": "code",
   "execution_count": 5,
   "id": "2b5d610e-d9be-47f1-8c37-b212e70774ef",
   "metadata": {
    "executionInfo": {
     "elapsed": 160,
     "status": "ok",
     "timestamp": 1708568868609,
     "user": {
      "displayName": "Davin Patel",
      "userId": "13701795561443417032"
     },
     "user_tz": 480
    },
    "id": "2b5d610e-d9be-47f1-8c37-b212e70774ef"
   },
   "outputs": [],
   "source": [
    "# df_cleaned = df_cleaned.drop(axis = 1, columns =['id', 'member_id','emp_title', 'url', 'Unnamed: 0', 'title', 'zip_code','addr_state', 'policy_code','desc', 'next_pymnt_d',\n",
    "#                                                  'issue_d', 'out_prncp', 'out_prncp_inv', 'total_pymnt',\n",
    "#                                                  'total_pymnt_inv', 'total_rec_prncp', 'total_rec_int','total_rec_late_fee','recoveries', 'collection_recovery_fee',\n",
    "#                                                  'last_pymnt_d', 'last_pymnt_amnt', 'last_credit_pull_d', 'collections_12_mths_ex_med','sub_grade'\\\n",
    "#                                                  ,'mths_since_last_delinq', 'mths_since_last_major_derog','mths_since_last_record', 'earliest_cr_line'\\\n",
    "#                                                  ,'grade', 'initial_list_status', 'term',\\\n",
    "#                                                 , 'inq_last_6mths', 'open_acc', 'pub_rec',\\\n",
    "#                                                 'tot_coll_amt', 'tot_cur_bal', 'total_rev_hi_lim', 'revol_util'])"
   ]
  },
  {
   "cell_type": "code",
   "execution_count": 6,
   "id": "dc655698",
   "metadata": {
    "executionInfo": {
     "elapsed": 450,
     "status": "ok",
     "timestamp": 1708568872433,
     "user": {
      "displayName": "Davin Patel",
      "userId": "13701795561443417032"
     },
     "user_tz": 480
    },
    "id": "dc655698"
   },
   "outputs": [],
   "source": [
    "#df_cleaned['term'].replace({' 36 months': 36, ' 60 months': 60}, inplace=True) #remove string value from column to ensure int value in column"
   ]
  },
  {
   "cell_type": "code",
   "execution_count": 7,
   "id": "oV6IgacpkPpl",
   "metadata": {
    "colab": {
     "base_uri": "https://localhost:8080/"
    },
    "executionInfo": {
     "elapsed": 215,
     "status": "ok",
     "timestamp": 1708568873921,
     "user": {
      "displayName": "Davin Patel",
      "userId": "13701795561443417032"
     },
     "user_tz": 480
    },
    "id": "oV6IgacpkPpl",
    "outputId": "481aefe9-bd68-4ae3-ab99-79c7d2362f6c"
   },
   "outputs": [],
   "source": [
    "#df_cleaned.term.unique()"
   ]
  },
  {
   "cell_type": "code",
   "execution_count": 8,
   "id": "1ae00ed7",
   "metadata": {
    "executionInfo": {
     "elapsed": 12,
     "status": "ok",
     "timestamp": 1708566363127,
     "user": {
      "displayName": "Davin Patel",
      "userId": "13701795561443417032"
     },
     "user_tz": 480
    },
    "id": "1ae00ed7"
   },
   "outputs": [],
   "source": [
    "#df_cleaned['earliest_cr_line_year'] = pd.to_datetime(df_cleaned['earliest_cr_line']).dt.year   #convert to year\n",
    "#df_cleaned['earliest_cr_line_month'] = pd.to_datetime(df_cleaned['earliest_cr_line']).dt.month  #convert to month\n",
    "#df_cleaned.drop(columns = 'earliest_cr_line', inplace = True)"
   ]
  },
  {
   "cell_type": "code",
   "execution_count": 9,
   "id": "5dbfb391",
   "metadata": {},
   "outputs": [],
   "source": [
    "other_nominal_columns = [ 'pymnt_plan']\n",
    "other_continuous_columns = ['emp_length', ]"
   ]
  },
  {
   "cell_type": "code",
   "execution_count": 10,
   "id": "19e1a914-41fe-4181-82fb-4596aa42ea7f",
   "metadata": {},
   "outputs": [
    {
     "data": {
      "text/plain": [
       "0         Jan-1985\n",
       "1         Apr-1999\n",
       "2         Nov-2001\n",
       "3         Feb-1996\n",
       "4         Jan-1996\n",
       "            ...   \n",
       "887374    Sep-2004\n",
       "887375    Mar-1974\n",
       "887376    Sep-2003\n",
       "887377    Oct-2003\n",
       "887378    Dec-2001\n",
       "Name: earliest_cr_line, Length: 887379, dtype: object"
      ]
     },
     "execution_count": 10,
     "metadata": {},
     "output_type": "execute_result"
    }
   ],
   "source": [
    "df_cleaned.earliest_cr_line"
   ]
  },
  {
   "cell_type": "code",
   "execution_count": 11,
   "id": "180bb252-acfb-4144-9fc0-987337f82228",
   "metadata": {},
   "outputs": [
    {
     "name": "stderr",
     "output_type": "stream",
     "text": [
      "/var/folders/vm/_8lh9zpx0vbc_x2bq621qrhc0000gn/T/ipykernel_55059/1264890974.py:1: UserWarning: Could not infer format, so each element will be parsed individually, falling back to `dateutil`. To ensure parsing is consistent and as-expected, please specify a format.\n",
      "  df_cleaned['earliest_cr_line'] = pd.to_datetime(df_cleaned['earliest_cr_line'])\n",
      "/var/folders/vm/_8lh9zpx0vbc_x2bq621qrhc0000gn/T/ipykernel_55059/1264890974.py:1: SettingWithCopyWarning: \n",
      "A value is trying to be set on a copy of a slice from a DataFrame.\n",
      "Try using .loc[row_indexer,col_indexer] = value instead\n",
      "\n",
      "See the caveats in the documentation: https://pandas.pydata.org/pandas-docs/stable/user_guide/indexing.html#returning-a-view-versus-a-copy\n",
      "  df_cleaned['earliest_cr_line'] = pd.to_datetime(df_cleaned['earliest_cr_line'])\n",
      "/var/folders/vm/_8lh9zpx0vbc_x2bq621qrhc0000gn/T/ipykernel_55059/1264890974.py:2: UserWarning: Could not infer format, so each element will be parsed individually, falling back to `dateutil`. To ensure parsing is consistent and as-expected, please specify a format.\n",
      "  df_cleaned['issue_d'] = pd.to_datetime(df_cleaned['issue_d'])\n",
      "/var/folders/vm/_8lh9zpx0vbc_x2bq621qrhc0000gn/T/ipykernel_55059/1264890974.py:2: SettingWithCopyWarning: \n",
      "A value is trying to be set on a copy of a slice from a DataFrame.\n",
      "Try using .loc[row_indexer,col_indexer] = value instead\n",
      "\n",
      "See the caveats in the documentation: https://pandas.pydata.org/pandas-docs/stable/user_guide/indexing.html#returning-a-view-versus-a-copy\n",
      "  df_cleaned['issue_d'] = pd.to_datetime(df_cleaned['issue_d'])\n"
     ]
    }
   ],
   "source": [
    "df_cleaned['earliest_cr_line'] = pd.to_datetime(df_cleaned['earliest_cr_line'])\n",
    "df_cleaned['issue_d'] = pd.to_datetime(df_cleaned['issue_d'])"
   ]
  },
  {
   "cell_type": "code",
   "execution_count": 12,
   "id": "cb53c5eb",
   "metadata": {
    "executionInfo": {
     "elapsed": 138,
     "status": "ok",
     "timestamp": 1708568876922,
     "user": {
      "displayName": "Davin Patel",
      "userId": "13701795561443417032"
     },
     "user_tz": 480
    },
    "id": "cb53c5eb"
   },
   "outputs": [],
   "source": [
    "continuous_columns = ['loan_amnt', 'installment', 'funded_amnt','funded_amnt_inv', 'annual_inc', 'int_rate', 'dti', 'delinq_2yrs',\\\n",
    "                     'revol_bal', 'total_acc', 'acc_now_delinq', 'revol_util', 'open_acc', 'inq_last_6mths', 'pub_rec']\n",
    "nominal_columns = ['home_ownership', 'purpose', 'verification_status', 'application_type', 'initial_list_status', 'pymnt_plan']\n",
    "ordinal_columns = ['sub_grade']\n",
    "time_columns = ['earliest_cr_line']"
   ]
  },
  {
   "cell_type": "code",
   "execution_count": 13,
   "id": "9e731e89",
   "metadata": {},
   "outputs": [],
   "source": [
    "total_cols = continuous_columns + nominal_columns + ordinal_columns"
   ]
  },
  {
   "cell_type": "code",
   "execution_count": 14,
   "id": "4e496a46",
   "metadata": {},
   "outputs": [
    {
     "data": {
      "text/plain": [
       "['loan_amnt',\n",
       " 'installment',\n",
       " 'funded_amnt',\n",
       " 'funded_amnt_inv',\n",
       " 'annual_inc',\n",
       " 'int_rate',\n",
       " 'dti',\n",
       " 'delinq_2yrs',\n",
       " 'revol_bal',\n",
       " 'total_acc',\n",
       " 'acc_now_delinq',\n",
       " 'revol_util',\n",
       " 'open_acc',\n",
       " 'inq_last_6mths',\n",
       " 'pub_rec',\n",
       " 'home_ownership',\n",
       " 'purpose',\n",
       " 'verification_status',\n",
       " 'application_type',\n",
       " 'initial_list_status',\n",
       " 'pymnt_plan',\n",
       " 'sub_grade']"
      ]
     },
     "execution_count": 14,
     "metadata": {},
     "output_type": "execute_result"
    }
   ],
   "source": [
    "total_cols"
   ]
  },
  {
   "cell_type": "code",
   "execution_count": 27,
   "id": "79255856-2b88-4230-a5e4-d1b014ffc4e4",
   "metadata": {},
   "outputs": [
    {
     "data": {
      "text/plain": [
       "22"
      ]
     },
     "execution_count": 27,
     "metadata": {},
     "output_type": "execute_result"
    }
   ],
   "source": [
    "len(total_cols)"
   ]
  },
  {
   "cell_type": "code",
   "execution_count": 15,
   "id": "6ceb8bd9-4e60-4916-8b2d-eba2d6958922",
   "metadata": {},
   "outputs": [],
   "source": [
    "from sklearn.impute import SimpleImputer\n",
    "preprocessor = ColumnTransformer(\n",
    "    transformers=[\n",
    "        ('nominal', Pipeline([\n",
    "            ('imputer', SimpleImputer(strategy='most_frequent')),\n",
    "            ('encoder', OneHotEncoder())\n",
    "        ]), nominal_columns),\n",
    "        ('continuous', Pipeline([\n",
    "            ('imputer', SimpleImputer(strategy='mean')),\n",
    "            ('scaler', StandardScaler())\n",
    "        ]), continuous_columns),\n",
    "        ('ordinal', Pipeline(steps=[\n",
    "            ('encoder', OrdinalEncoder())\n",
    "        ]), ordinal_columns),\n",
    "    ],\n",
    "    remainder='drop'\n",
    ")"
   ]
  },
  {
   "cell_type": "code",
   "execution_count": 16,
   "id": "db1e7d8f-9062-4d76-837d-e2eafdeab230",
   "metadata": {},
   "outputs": [],
   "source": [
    "# from sklearn.impute import SimpleImputer\n",
    "# preprocessor = ColumnTransformer(\n",
    "#     transformers=[\n",
    "#         ('nominal', Pipeline([\n",
    "#             ('imputer', SimpleImputer(strategy='most_frequent')),\n",
    "#             ('encoder', OneHotEncoder())\n",
    "#         ]), nominal_columns),\n",
    "#         ('continuous', Pipeline([\n",
    "#             ('imputer', SimpleImputer(strategy='mean')),\n",
    "#             ('scaler', StandardScaler())\n",
    "#         ]), continuous_columns),\n",
    "#         ('ordinal', Pipeline(steps=[\n",
    "#             ('encoder', OrdinalEncoder())\n",
    "#         ]), ordinal_columns),\n",
    "#         ('time', Pipeline(steps=[\n",
    "#             ('imputer', SimpleImputer(strategy='median'))\n",
    "#         ]), time_columns),\n",
    "#     ],\n",
    "#     remainder='drop'\n",
    "# )"
   ]
  },
  {
   "cell_type": "code",
   "execution_count": 17,
   "id": "993efc81-94ee-450a-8348-02a543cf4d84",
   "metadata": {},
   "outputs": [],
   "source": [
    "#df.loan_status.unique()"
   ]
  },
  {
   "cell_type": "code",
   "execution_count": 18,
   "id": "6575c892-18fa-4833-834c-095afe34eaad",
   "metadata": {},
   "outputs": [],
   "source": [
    "#df[~df['loan_status'].isin(['Current', 'In Grace Period', 'Issued'])].loan_status.unique()"
   ]
  },
  {
   "cell_type": "code",
   "execution_count": 19,
   "id": "02bf71db",
   "metadata": {
    "executionInfo": {
     "elapsed": 230,
     "status": "ok",
     "timestamp": 1708568886838,
     "user": {
      "displayName": "Davin Patel",
      "userId": "13701795561443417032"
     },
     "user_tz": 480
    },
    "id": "02bf71db"
   },
   "outputs": [],
   "source": [
    "#df_cleaned = df_cleaned[~df_cleaned['loan_status'].isin(['Current', 'In Grace Period', 'Issued'])] #drop rows containing data not needed for model"
   ]
  },
  {
   "cell_type": "code",
   "execution_count": 20,
   "id": "1286edd7",
   "metadata": {
    "executionInfo": {
     "elapsed": 213,
     "status": "ok",
     "timestamp": 1708568887953,
     "user": {
      "displayName": "Davin Patel",
      "userId": "13701795561443417032"
     },
     "user_tz": 480
    },
    "id": "1286edd7"
   },
   "outputs": [
    {
     "name": "stderr",
     "output_type": "stream",
     "text": [
      "/var/folders/vm/_8lh9zpx0vbc_x2bq621qrhc0000gn/T/ipykernel_55059/2618706337.py:1: SettingWithCopyWarning: \n",
      "A value is trying to be set on a copy of a slice from a DataFrame.\n",
      "Try using .loc[row_indexer,col_indexer] = value instead\n",
      "\n",
      "See the caveats in the documentation: https://pandas.pydata.org/pandas-docs/stable/user_guide/indexing.html#returning-a-view-versus-a-copy\n",
      "  df_cleaned['binary_loan_status'] = df_cleaned['loan_status'].apply(lambda x: 1 if x in ['Fully Paid'] else 0)\n"
     ]
    }
   ],
   "source": [
    "df_cleaned['binary_loan_status'] = df_cleaned['loan_status'].apply(lambda x: 1 if x in ['Fully Paid'] else 0)"
   ]
  },
  {
   "cell_type": "code",
   "execution_count": 21,
   "id": "efc6a135-d7ea-47e8-91f4-1d6ad0cc80d9",
   "metadata": {},
   "outputs": [
    {
     "name": "stderr",
     "output_type": "stream",
     "text": [
      "/var/folders/vm/_8lh9zpx0vbc_x2bq621qrhc0000gn/T/ipykernel_55059/3704106794.py:1: SettingWithCopyWarning: \n",
      "A value is trying to be set on a copy of a slice from a DataFrame\n",
      "\n",
      "See the caveats in the documentation: https://pandas.pydata.org/pandas-docs/stable/user_guide/indexing.html#returning-a-view-versus-a-copy\n",
      "  df_cleaned.drop(columns = 'loan_status', inplace = True)\n"
     ]
    }
   ],
   "source": [
    "df_cleaned.drop(columns = 'loan_status', inplace = True)"
   ]
  },
  {
   "cell_type": "code",
   "execution_count": 22,
   "id": "28c97118-285f-4b39-80dc-2448bcf7d734",
   "metadata": {
    "executionInfo": {
     "elapsed": 209,
     "status": "ok",
     "timestamp": 1708568891943,
     "user": {
      "displayName": "Davin Patel",
      "userId": "13701795561443417032"
     },
     "user_tz": 480
    },
    "id": "28c97118-285f-4b39-80dc-2448bcf7d734"
   },
   "outputs": [],
   "source": [
    "X = df_cleaned[total_cols]"
   ]
  },
  {
   "cell_type": "code",
   "execution_count": 23,
   "id": "e08703bb",
   "metadata": {
    "executionInfo": {
     "elapsed": 163,
     "status": "ok",
     "timestamp": 1708568894096,
     "user": {
      "displayName": "Davin Patel",
      "userId": "13701795561443417032"
     },
     "user_tz": 480
    },
    "id": "e08703bb"
   },
   "outputs": [],
   "source": [
    "y = df_cleaned.binary_loan_status"
   ]
  },
  {
   "cell_type": "code",
   "execution_count": 24,
   "id": "16fb37fe",
   "metadata": {
    "executionInfo": {
     "elapsed": 219,
     "status": "ok",
     "timestamp": 1708568896247,
     "user": {
      "displayName": "Davin Patel",
      "userId": "13701795561443417032"
     },
     "user_tz": 480
    },
    "id": "16fb37fe"
   },
   "outputs": [],
   "source": [
    "X_train, X_test, y_train, y_test = train_test_split(X, y, random_state = 42, shuffle = True, test_size=0.3)"
   ]
  },
  {
   "cell_type": "code",
   "execution_count": 25,
   "id": "a72613b8",
   "metadata": {},
   "outputs": [
    {
     "data": {
      "text/html": [
       "<style>#sk-container-id-1 {color: black;background-color: white;}#sk-container-id-1 pre{padding: 0;}#sk-container-id-1 div.sk-toggleable {background-color: white;}#sk-container-id-1 label.sk-toggleable__label {cursor: pointer;display: block;width: 100%;margin-bottom: 0;padding: 0.3em;box-sizing: border-box;text-align: center;}#sk-container-id-1 label.sk-toggleable__label-arrow:before {content: \"▸\";float: left;margin-right: 0.25em;color: #696969;}#sk-container-id-1 label.sk-toggleable__label-arrow:hover:before {color: black;}#sk-container-id-1 div.sk-estimator:hover label.sk-toggleable__label-arrow:before {color: black;}#sk-container-id-1 div.sk-toggleable__content {max-height: 0;max-width: 0;overflow: hidden;text-align: left;background-color: #f0f8ff;}#sk-container-id-1 div.sk-toggleable__content pre {margin: 0.2em;color: black;border-radius: 0.25em;background-color: #f0f8ff;}#sk-container-id-1 input.sk-toggleable__control:checked~div.sk-toggleable__content {max-height: 200px;max-width: 100%;overflow: auto;}#sk-container-id-1 input.sk-toggleable__control:checked~label.sk-toggleable__label-arrow:before {content: \"▾\";}#sk-container-id-1 div.sk-estimator input.sk-toggleable__control:checked~label.sk-toggleable__label {background-color: #d4ebff;}#sk-container-id-1 div.sk-label input.sk-toggleable__control:checked~label.sk-toggleable__label {background-color: #d4ebff;}#sk-container-id-1 input.sk-hidden--visually {border: 0;clip: rect(1px 1px 1px 1px);clip: rect(1px, 1px, 1px, 1px);height: 1px;margin: -1px;overflow: hidden;padding: 0;position: absolute;width: 1px;}#sk-container-id-1 div.sk-estimator {font-family: monospace;background-color: #f0f8ff;border: 1px dotted black;border-radius: 0.25em;box-sizing: border-box;margin-bottom: 0.5em;}#sk-container-id-1 div.sk-estimator:hover {background-color: #d4ebff;}#sk-container-id-1 div.sk-parallel-item::after {content: \"\";width: 100%;border-bottom: 1px solid gray;flex-grow: 1;}#sk-container-id-1 div.sk-label:hover label.sk-toggleable__label {background-color: #d4ebff;}#sk-container-id-1 div.sk-serial::before {content: \"\";position: absolute;border-left: 1px solid gray;box-sizing: border-box;top: 0;bottom: 0;left: 50%;z-index: 0;}#sk-container-id-1 div.sk-serial {display: flex;flex-direction: column;align-items: center;background-color: white;padding-right: 0.2em;padding-left: 0.2em;position: relative;}#sk-container-id-1 div.sk-item {position: relative;z-index: 1;}#sk-container-id-1 div.sk-parallel {display: flex;align-items: stretch;justify-content: center;background-color: white;position: relative;}#sk-container-id-1 div.sk-item::before, #sk-container-id-1 div.sk-parallel-item::before {content: \"\";position: absolute;border-left: 1px solid gray;box-sizing: border-box;top: 0;bottom: 0;left: 50%;z-index: -1;}#sk-container-id-1 div.sk-parallel-item {display: flex;flex-direction: column;z-index: 1;position: relative;background-color: white;}#sk-container-id-1 div.sk-parallel-item:first-child::after {align-self: flex-end;width: 50%;}#sk-container-id-1 div.sk-parallel-item:last-child::after {align-self: flex-start;width: 50%;}#sk-container-id-1 div.sk-parallel-item:only-child::after {width: 0;}#sk-container-id-1 div.sk-dashed-wrapped {border: 1px dashed gray;margin: 0 0.4em 0.5em 0.4em;box-sizing: border-box;padding-bottom: 0.4em;background-color: white;}#sk-container-id-1 div.sk-label label {font-family: monospace;font-weight: bold;display: inline-block;line-height: 1.2em;}#sk-container-id-1 div.sk-label-container {text-align: center;}#sk-container-id-1 div.sk-container {/* jupyter's `normalize.less` sets `[hidden] { display: none; }` but bootstrap.min.css set `[hidden] { display: none !important; }` so we also need the `!important` here to be able to override the default hidden behavior on the sphinx rendered scikit-learn.org. See: https://github.com/scikit-learn/scikit-learn/issues/21755 */display: inline-block !important;position: relative;}#sk-container-id-1 div.sk-text-repr-fallback {display: none;}</style><div id=\"sk-container-id-1\" class=\"sk-top-container\"><div class=\"sk-text-repr-fallback\"><pre>Pipeline(steps=[(&#x27;preprocessor&#x27;,\n",
       "                 ColumnTransformer(transformers=[(&#x27;nominal&#x27;,\n",
       "                                                  Pipeline(steps=[(&#x27;imputer&#x27;,\n",
       "                                                                   SimpleImputer(strategy=&#x27;most_frequent&#x27;)),\n",
       "                                                                  (&#x27;encoder&#x27;,\n",
       "                                                                   OneHotEncoder())]),\n",
       "                                                  [&#x27;home_ownership&#x27;, &#x27;purpose&#x27;,\n",
       "                                                   &#x27;verification_status&#x27;,\n",
       "                                                   &#x27;application_type&#x27;,\n",
       "                                                   &#x27;initial_list_status&#x27;,\n",
       "                                                   &#x27;pymnt_plan&#x27;]),\n",
       "                                                 (&#x27;continuous&#x27;,\n",
       "                                                  Pipeline(steps=[(&#x27;imputer&#x27;,\n",
       "                                                                   SimpleImputer()),\n",
       "                                                                  (&#x27;scaler&#x27;,\n",
       "                                                                   StandardScaler())]),\n",
       "                                                  [&#x27;loan_amnt&#x27;, &#x27;installment&#x27;,\n",
       "                                                   &#x27;funded_amnt&#x27;,\n",
       "                                                   &#x27;funded_amnt_inv&#x27;,\n",
       "                                                   &#x27;annual_inc&#x27;, &#x27;int_rate&#x27;,\n",
       "                                                   &#x27;dti&#x27;, &#x27;delinq_2yrs&#x27;,\n",
       "                                                   &#x27;revol_bal&#x27;, &#x27;total_acc&#x27;,\n",
       "                                                   &#x27;acc_now_delinq&#x27;,\n",
       "                                                   &#x27;revol_util&#x27;, &#x27;open_acc&#x27;,\n",
       "                                                   &#x27;inq_last_6mths&#x27;,\n",
       "                                                   &#x27;pub_rec&#x27;]),\n",
       "                                                 (&#x27;ordinal&#x27;,\n",
       "                                                  Pipeline(steps=[(&#x27;encoder&#x27;,\n",
       "                                                                   OrdinalEncoder())]),\n",
       "                                                  [&#x27;sub_grade&#x27;])])),\n",
       "                (&#x27;classifier&#x27;, LogisticRegression(max_iter=1000))])</pre><b>In a Jupyter environment, please rerun this cell to show the HTML representation or trust the notebook. <br />On GitHub, the HTML representation is unable to render, please try loading this page with nbviewer.org.</b></div><div class=\"sk-container\" hidden><div class=\"sk-item sk-dashed-wrapped\"><div class=\"sk-label-container\"><div class=\"sk-label sk-toggleable\"><input class=\"sk-toggleable__control sk-hidden--visually\" id=\"sk-estimator-id-1\" type=\"checkbox\" ><label for=\"sk-estimator-id-1\" class=\"sk-toggleable__label sk-toggleable__label-arrow\">Pipeline</label><div class=\"sk-toggleable__content\"><pre>Pipeline(steps=[(&#x27;preprocessor&#x27;,\n",
       "                 ColumnTransformer(transformers=[(&#x27;nominal&#x27;,\n",
       "                                                  Pipeline(steps=[(&#x27;imputer&#x27;,\n",
       "                                                                   SimpleImputer(strategy=&#x27;most_frequent&#x27;)),\n",
       "                                                                  (&#x27;encoder&#x27;,\n",
       "                                                                   OneHotEncoder())]),\n",
       "                                                  [&#x27;home_ownership&#x27;, &#x27;purpose&#x27;,\n",
       "                                                   &#x27;verification_status&#x27;,\n",
       "                                                   &#x27;application_type&#x27;,\n",
       "                                                   &#x27;initial_list_status&#x27;,\n",
       "                                                   &#x27;pymnt_plan&#x27;]),\n",
       "                                                 (&#x27;continuous&#x27;,\n",
       "                                                  Pipeline(steps=[(&#x27;imputer&#x27;,\n",
       "                                                                   SimpleImputer()),\n",
       "                                                                  (&#x27;scaler&#x27;,\n",
       "                                                                   StandardScaler())]),\n",
       "                                                  [&#x27;loan_amnt&#x27;, &#x27;installment&#x27;,\n",
       "                                                   &#x27;funded_amnt&#x27;,\n",
       "                                                   &#x27;funded_amnt_inv&#x27;,\n",
       "                                                   &#x27;annual_inc&#x27;, &#x27;int_rate&#x27;,\n",
       "                                                   &#x27;dti&#x27;, &#x27;delinq_2yrs&#x27;,\n",
       "                                                   &#x27;revol_bal&#x27;, &#x27;total_acc&#x27;,\n",
       "                                                   &#x27;acc_now_delinq&#x27;,\n",
       "                                                   &#x27;revol_util&#x27;, &#x27;open_acc&#x27;,\n",
       "                                                   &#x27;inq_last_6mths&#x27;,\n",
       "                                                   &#x27;pub_rec&#x27;]),\n",
       "                                                 (&#x27;ordinal&#x27;,\n",
       "                                                  Pipeline(steps=[(&#x27;encoder&#x27;,\n",
       "                                                                   OrdinalEncoder())]),\n",
       "                                                  [&#x27;sub_grade&#x27;])])),\n",
       "                (&#x27;classifier&#x27;, LogisticRegression(max_iter=1000))])</pre></div></div></div><div class=\"sk-serial\"><div class=\"sk-item sk-dashed-wrapped\"><div class=\"sk-label-container\"><div class=\"sk-label sk-toggleable\"><input class=\"sk-toggleable__control sk-hidden--visually\" id=\"sk-estimator-id-2\" type=\"checkbox\" ><label for=\"sk-estimator-id-2\" class=\"sk-toggleable__label sk-toggleable__label-arrow\">preprocessor: ColumnTransformer</label><div class=\"sk-toggleable__content\"><pre>ColumnTransformer(transformers=[(&#x27;nominal&#x27;,\n",
       "                                 Pipeline(steps=[(&#x27;imputer&#x27;,\n",
       "                                                  SimpleImputer(strategy=&#x27;most_frequent&#x27;)),\n",
       "                                                 (&#x27;encoder&#x27;, OneHotEncoder())]),\n",
       "                                 [&#x27;home_ownership&#x27;, &#x27;purpose&#x27;,\n",
       "                                  &#x27;verification_status&#x27;, &#x27;application_type&#x27;,\n",
       "                                  &#x27;initial_list_status&#x27;, &#x27;pymnt_plan&#x27;]),\n",
       "                                (&#x27;continuous&#x27;,\n",
       "                                 Pipeline(steps=[(&#x27;imputer&#x27;, SimpleImputer()),\n",
       "                                                 (&#x27;scaler&#x27;, StandardScaler())]),\n",
       "                                 [&#x27;loan_amnt&#x27;, &#x27;installment&#x27;, &#x27;funded_amnt&#x27;,\n",
       "                                  &#x27;funded_amnt_inv&#x27;, &#x27;annual_inc&#x27;, &#x27;int_rate&#x27;,\n",
       "                                  &#x27;dti&#x27;, &#x27;delinq_2yrs&#x27;, &#x27;revol_bal&#x27;,\n",
       "                                  &#x27;total_acc&#x27;, &#x27;acc_now_delinq&#x27;, &#x27;revol_util&#x27;,\n",
       "                                  &#x27;open_acc&#x27;, &#x27;inq_last_6mths&#x27;, &#x27;pub_rec&#x27;]),\n",
       "                                (&#x27;ordinal&#x27;,\n",
       "                                 Pipeline(steps=[(&#x27;encoder&#x27;,\n",
       "                                                  OrdinalEncoder())]),\n",
       "                                 [&#x27;sub_grade&#x27;])])</pre></div></div></div><div class=\"sk-parallel\"><div class=\"sk-parallel-item\"><div class=\"sk-item\"><div class=\"sk-label-container\"><div class=\"sk-label sk-toggleable\"><input class=\"sk-toggleable__control sk-hidden--visually\" id=\"sk-estimator-id-3\" type=\"checkbox\" ><label for=\"sk-estimator-id-3\" class=\"sk-toggleable__label sk-toggleable__label-arrow\">nominal</label><div class=\"sk-toggleable__content\"><pre>[&#x27;home_ownership&#x27;, &#x27;purpose&#x27;, &#x27;verification_status&#x27;, &#x27;application_type&#x27;, &#x27;initial_list_status&#x27;, &#x27;pymnt_plan&#x27;]</pre></div></div></div><div class=\"sk-serial\"><div class=\"sk-item\"><div class=\"sk-serial\"><div class=\"sk-item\"><div class=\"sk-estimator sk-toggleable\"><input class=\"sk-toggleable__control sk-hidden--visually\" id=\"sk-estimator-id-4\" type=\"checkbox\" ><label for=\"sk-estimator-id-4\" class=\"sk-toggleable__label sk-toggleable__label-arrow\">SimpleImputer</label><div class=\"sk-toggleable__content\"><pre>SimpleImputer(strategy=&#x27;most_frequent&#x27;)</pre></div></div></div><div class=\"sk-item\"><div class=\"sk-estimator sk-toggleable\"><input class=\"sk-toggleable__control sk-hidden--visually\" id=\"sk-estimator-id-5\" type=\"checkbox\" ><label for=\"sk-estimator-id-5\" class=\"sk-toggleable__label sk-toggleable__label-arrow\">OneHotEncoder</label><div class=\"sk-toggleable__content\"><pre>OneHotEncoder()</pre></div></div></div></div></div></div></div></div><div class=\"sk-parallel-item\"><div class=\"sk-item\"><div class=\"sk-label-container\"><div class=\"sk-label sk-toggleable\"><input class=\"sk-toggleable__control sk-hidden--visually\" id=\"sk-estimator-id-6\" type=\"checkbox\" ><label for=\"sk-estimator-id-6\" class=\"sk-toggleable__label sk-toggleable__label-arrow\">continuous</label><div class=\"sk-toggleable__content\"><pre>[&#x27;loan_amnt&#x27;, &#x27;installment&#x27;, &#x27;funded_amnt&#x27;, &#x27;funded_amnt_inv&#x27;, &#x27;annual_inc&#x27;, &#x27;int_rate&#x27;, &#x27;dti&#x27;, &#x27;delinq_2yrs&#x27;, &#x27;revol_bal&#x27;, &#x27;total_acc&#x27;, &#x27;acc_now_delinq&#x27;, &#x27;revol_util&#x27;, &#x27;open_acc&#x27;, &#x27;inq_last_6mths&#x27;, &#x27;pub_rec&#x27;]</pre></div></div></div><div class=\"sk-serial\"><div class=\"sk-item\"><div class=\"sk-serial\"><div class=\"sk-item\"><div class=\"sk-estimator sk-toggleable\"><input class=\"sk-toggleable__control sk-hidden--visually\" id=\"sk-estimator-id-7\" type=\"checkbox\" ><label for=\"sk-estimator-id-7\" class=\"sk-toggleable__label sk-toggleable__label-arrow\">SimpleImputer</label><div class=\"sk-toggleable__content\"><pre>SimpleImputer()</pre></div></div></div><div class=\"sk-item\"><div class=\"sk-estimator sk-toggleable\"><input class=\"sk-toggleable__control sk-hidden--visually\" id=\"sk-estimator-id-8\" type=\"checkbox\" ><label for=\"sk-estimator-id-8\" class=\"sk-toggleable__label sk-toggleable__label-arrow\">StandardScaler</label><div class=\"sk-toggleable__content\"><pre>StandardScaler()</pre></div></div></div></div></div></div></div></div><div class=\"sk-parallel-item\"><div class=\"sk-item\"><div class=\"sk-label-container\"><div class=\"sk-label sk-toggleable\"><input class=\"sk-toggleable__control sk-hidden--visually\" id=\"sk-estimator-id-9\" type=\"checkbox\" ><label for=\"sk-estimator-id-9\" class=\"sk-toggleable__label sk-toggleable__label-arrow\">ordinal</label><div class=\"sk-toggleable__content\"><pre>[&#x27;sub_grade&#x27;]</pre></div></div></div><div class=\"sk-serial\"><div class=\"sk-item\"><div class=\"sk-serial\"><div class=\"sk-item\"><div class=\"sk-estimator sk-toggleable\"><input class=\"sk-toggleable__control sk-hidden--visually\" id=\"sk-estimator-id-10\" type=\"checkbox\" ><label for=\"sk-estimator-id-10\" class=\"sk-toggleable__label sk-toggleable__label-arrow\">OrdinalEncoder</label><div class=\"sk-toggleable__content\"><pre>OrdinalEncoder()</pre></div></div></div></div></div></div></div></div></div></div><div class=\"sk-item\"><div class=\"sk-estimator sk-toggleable\"><input class=\"sk-toggleable__control sk-hidden--visually\" id=\"sk-estimator-id-11\" type=\"checkbox\" ><label for=\"sk-estimator-id-11\" class=\"sk-toggleable__label sk-toggleable__label-arrow\">LogisticRegression</label><div class=\"sk-toggleable__content\"><pre>LogisticRegression(max_iter=1000)</pre></div></div></div></div></div></div></div>"
      ],
      "text/plain": [
       "Pipeline(steps=[('preprocessor',\n",
       "                 ColumnTransformer(transformers=[('nominal',\n",
       "                                                  Pipeline(steps=[('imputer',\n",
       "                                                                   SimpleImputer(strategy='most_frequent')),\n",
       "                                                                  ('encoder',\n",
       "                                                                   OneHotEncoder())]),\n",
       "                                                  ['home_ownership', 'purpose',\n",
       "                                                   'verification_status',\n",
       "                                                   'application_type',\n",
       "                                                   'initial_list_status',\n",
       "                                                   'pymnt_plan']),\n",
       "                                                 ('continuous',\n",
       "                                                  Pipeline(steps=[('imputer',\n",
       "                                                                   SimpleImputer()),\n",
       "                                                                  ('scaler',\n",
       "                                                                   StandardScaler())]),\n",
       "                                                  ['loan_amnt', 'installment',\n",
       "                                                   'funded_amnt',\n",
       "                                                   'funded_amnt_inv',\n",
       "                                                   'annual_inc', 'int_rate',\n",
       "                                                   'dti', 'delinq_2yrs',\n",
       "                                                   'revol_bal', 'total_acc',\n",
       "                                                   'acc_now_delinq',\n",
       "                                                   'revol_util', 'open_acc',\n",
       "                                                   'inq_last_6mths',\n",
       "                                                   'pub_rec']),\n",
       "                                                 ('ordinal',\n",
       "                                                  Pipeline(steps=[('encoder',\n",
       "                                                                   OrdinalEncoder())]),\n",
       "                                                  ['sub_grade'])])),\n",
       "                ('classifier', LogisticRegression(max_iter=1000))])"
      ]
     },
     "execution_count": 25,
     "metadata": {},
     "output_type": "execute_result"
    }
   ],
   "source": [
    "from sklearn.feature_selection import SelectFromModel\n",
    "from sklearn.metrics import make_scorer\n",
    "pipeline = Pipeline(steps=[\n",
    "    ('preprocessor', preprocessor),\n",
    "    #('feature_selection', SelectFromModel(DecisionTreeClassifier(random_state=42))),\n",
    "    ('classifier', LogisticRegression(max_iter = 1000))\n",
    "])\n",
    "\n",
    "pipeline.fit(X_train, y_train)"
   ]
  },
  {
   "cell_type": "code",
   "execution_count": 26,
   "id": "b01d806c-4593-4b1e-822c-521bbeb8ed67",
   "metadata": {},
   "outputs": [
    {
     "name": "stdout",
     "output_type": "stream",
     "text": [
      "AUC Score:  0.7705692975631879\n"
     ]
    }
   ],
   "source": [
    "pipeline.fit(X_train, y_train)\n",
    "y_pred_proba = pipeline.predict_proba(X_test)[:,1]\n",
    "\n",
    "auc_score = roc_auc_score(y_test, y_pred_proba)\n",
    "print(\"AUC Score: \", auc_score)"
   ]
  },
  {
   "cell_type": "code",
   "execution_count": null,
   "id": "65207c7e-1b80-45d9-9651-0f1f81c67e24",
   "metadata": {},
   "outputs": [],
   "source": []
  },
  {
   "cell_type": "code",
   "execution_count": null,
   "id": "020286c1-d059-4339-8957-ae5fe4df1e27",
   "metadata": {},
   "outputs": [],
   "source": []
  },
  {
   "cell_type": "code",
   "execution_count": 24,
   "id": "3cac7b3c-a196-4865-8325-47653a48447d",
   "metadata": {},
   "outputs": [
    {
     "data": {
      "text/html": [
       "<style>#sk-container-id-2 {color: black;background-color: white;}#sk-container-id-2 pre{padding: 0;}#sk-container-id-2 div.sk-toggleable {background-color: white;}#sk-container-id-2 label.sk-toggleable__label {cursor: pointer;display: block;width: 100%;margin-bottom: 0;padding: 0.3em;box-sizing: border-box;text-align: center;}#sk-container-id-2 label.sk-toggleable__label-arrow:before {content: \"▸\";float: left;margin-right: 0.25em;color: #696969;}#sk-container-id-2 label.sk-toggleable__label-arrow:hover:before {color: black;}#sk-container-id-2 div.sk-estimator:hover label.sk-toggleable__label-arrow:before {color: black;}#sk-container-id-2 div.sk-toggleable__content {max-height: 0;max-width: 0;overflow: hidden;text-align: left;background-color: #f0f8ff;}#sk-container-id-2 div.sk-toggleable__content pre {margin: 0.2em;color: black;border-radius: 0.25em;background-color: #f0f8ff;}#sk-container-id-2 input.sk-toggleable__control:checked~div.sk-toggleable__content {max-height: 200px;max-width: 100%;overflow: auto;}#sk-container-id-2 input.sk-toggleable__control:checked~label.sk-toggleable__label-arrow:before {content: \"▾\";}#sk-container-id-2 div.sk-estimator input.sk-toggleable__control:checked~label.sk-toggleable__label {background-color: #d4ebff;}#sk-container-id-2 div.sk-label input.sk-toggleable__control:checked~label.sk-toggleable__label {background-color: #d4ebff;}#sk-container-id-2 input.sk-hidden--visually {border: 0;clip: rect(1px 1px 1px 1px);clip: rect(1px, 1px, 1px, 1px);height: 1px;margin: -1px;overflow: hidden;padding: 0;position: absolute;width: 1px;}#sk-container-id-2 div.sk-estimator {font-family: monospace;background-color: #f0f8ff;border: 1px dotted black;border-radius: 0.25em;box-sizing: border-box;margin-bottom: 0.5em;}#sk-container-id-2 div.sk-estimator:hover {background-color: #d4ebff;}#sk-container-id-2 div.sk-parallel-item::after {content: \"\";width: 100%;border-bottom: 1px solid gray;flex-grow: 1;}#sk-container-id-2 div.sk-label:hover label.sk-toggleable__label {background-color: #d4ebff;}#sk-container-id-2 div.sk-serial::before {content: \"\";position: absolute;border-left: 1px solid gray;box-sizing: border-box;top: 0;bottom: 0;left: 50%;z-index: 0;}#sk-container-id-2 div.sk-serial {display: flex;flex-direction: column;align-items: center;background-color: white;padding-right: 0.2em;padding-left: 0.2em;position: relative;}#sk-container-id-2 div.sk-item {position: relative;z-index: 1;}#sk-container-id-2 div.sk-parallel {display: flex;align-items: stretch;justify-content: center;background-color: white;position: relative;}#sk-container-id-2 div.sk-item::before, #sk-container-id-2 div.sk-parallel-item::before {content: \"\";position: absolute;border-left: 1px solid gray;box-sizing: border-box;top: 0;bottom: 0;left: 50%;z-index: -1;}#sk-container-id-2 div.sk-parallel-item {display: flex;flex-direction: column;z-index: 1;position: relative;background-color: white;}#sk-container-id-2 div.sk-parallel-item:first-child::after {align-self: flex-end;width: 50%;}#sk-container-id-2 div.sk-parallel-item:last-child::after {align-self: flex-start;width: 50%;}#sk-container-id-2 div.sk-parallel-item:only-child::after {width: 0;}#sk-container-id-2 div.sk-dashed-wrapped {border: 1px dashed gray;margin: 0 0.4em 0.5em 0.4em;box-sizing: border-box;padding-bottom: 0.4em;background-color: white;}#sk-container-id-2 div.sk-label label {font-family: monospace;font-weight: bold;display: inline-block;line-height: 1.2em;}#sk-container-id-2 div.sk-label-container {text-align: center;}#sk-container-id-2 div.sk-container {/* jupyter's `normalize.less` sets `[hidden] { display: none; }` but bootstrap.min.css set `[hidden] { display: none !important; }` so we also need the `!important` here to be able to override the default hidden behavior on the sphinx rendered scikit-learn.org. See: https://github.com/scikit-learn/scikit-learn/issues/21755 */display: inline-block !important;position: relative;}#sk-container-id-2 div.sk-text-repr-fallback {display: none;}</style><div id=\"sk-container-id-2\" class=\"sk-top-container\"><div class=\"sk-text-repr-fallback\"><pre>Pipeline(steps=[(&#x27;preprocessor&#x27;,\n",
       "                 ColumnTransformer(transformers=[(&#x27;nominal&#x27;,\n",
       "                                                  Pipeline(steps=[(&#x27;imputer&#x27;,\n",
       "                                                                   SimpleImputer(strategy=&#x27;most_frequent&#x27;)),\n",
       "                                                                  (&#x27;encoder&#x27;,\n",
       "                                                                   OneHotEncoder())]),\n",
       "                                                  [&#x27;home_ownership&#x27;, &#x27;purpose&#x27;,\n",
       "                                                   &#x27;verification_status&#x27;,\n",
       "                                                   &#x27;application_type&#x27;,\n",
       "                                                   &#x27;initial_list_status&#x27;,\n",
       "                                                   &#x27;pymnt_plan&#x27;]),\n",
       "                                                 (&#x27;continuous&#x27;,\n",
       "                                                  Pipeline(steps=[(&#x27;imputer&#x27;,\n",
       "                                                                   SimpleImputer()),\n",
       "                                                                  (&#x27;scaler&#x27;,\n",
       "                                                                   Sta...\n",
       "                                                   &#x27;funded_amnt_inv&#x27;,\n",
       "                                                   &#x27;annual_inc&#x27;, &#x27;int_rate&#x27;,\n",
       "                                                   &#x27;dti&#x27;, &#x27;delinq_2yrs&#x27;,\n",
       "                                                   &#x27;revol_bal&#x27;, &#x27;total_acc&#x27;,\n",
       "                                                   &#x27;acc_now_delinq&#x27;,\n",
       "                                                   &#x27;revol_util&#x27;, &#x27;open_acc&#x27;,\n",
       "                                                   &#x27;inq_last_6mths&#x27;,\n",
       "                                                   &#x27;pub_rec&#x27;]),\n",
       "                                                 (&#x27;ordinal&#x27;,\n",
       "                                                  Pipeline(steps=[(&#x27;encoder&#x27;,\n",
       "                                                                   OrdinalEncoder())]),\n",
       "                                                  [&#x27;grade&#x27;])])),\n",
       "                (&#x27;feature_selection&#x27;,\n",
       "                 SelectFromModel(estimator=DecisionTreeClassifier(random_state=42))),\n",
       "                (&#x27;classifier&#x27;, LogisticRegression(max_iter=1000))])</pre><b>In a Jupyter environment, please rerun this cell to show the HTML representation or trust the notebook. <br />On GitHub, the HTML representation is unable to render, please try loading this page with nbviewer.org.</b></div><div class=\"sk-container\" hidden><div class=\"sk-item sk-dashed-wrapped\"><div class=\"sk-label-container\"><div class=\"sk-label sk-toggleable\"><input class=\"sk-toggleable__control sk-hidden--visually\" id=\"sk-estimator-id-12\" type=\"checkbox\" ><label for=\"sk-estimator-id-12\" class=\"sk-toggleable__label sk-toggleable__label-arrow\">Pipeline</label><div class=\"sk-toggleable__content\"><pre>Pipeline(steps=[(&#x27;preprocessor&#x27;,\n",
       "                 ColumnTransformer(transformers=[(&#x27;nominal&#x27;,\n",
       "                                                  Pipeline(steps=[(&#x27;imputer&#x27;,\n",
       "                                                                   SimpleImputer(strategy=&#x27;most_frequent&#x27;)),\n",
       "                                                                  (&#x27;encoder&#x27;,\n",
       "                                                                   OneHotEncoder())]),\n",
       "                                                  [&#x27;home_ownership&#x27;, &#x27;purpose&#x27;,\n",
       "                                                   &#x27;verification_status&#x27;,\n",
       "                                                   &#x27;application_type&#x27;,\n",
       "                                                   &#x27;initial_list_status&#x27;,\n",
       "                                                   &#x27;pymnt_plan&#x27;]),\n",
       "                                                 (&#x27;continuous&#x27;,\n",
       "                                                  Pipeline(steps=[(&#x27;imputer&#x27;,\n",
       "                                                                   SimpleImputer()),\n",
       "                                                                  (&#x27;scaler&#x27;,\n",
       "                                                                   Sta...\n",
       "                                                   &#x27;funded_amnt_inv&#x27;,\n",
       "                                                   &#x27;annual_inc&#x27;, &#x27;int_rate&#x27;,\n",
       "                                                   &#x27;dti&#x27;, &#x27;delinq_2yrs&#x27;,\n",
       "                                                   &#x27;revol_bal&#x27;, &#x27;total_acc&#x27;,\n",
       "                                                   &#x27;acc_now_delinq&#x27;,\n",
       "                                                   &#x27;revol_util&#x27;, &#x27;open_acc&#x27;,\n",
       "                                                   &#x27;inq_last_6mths&#x27;,\n",
       "                                                   &#x27;pub_rec&#x27;]),\n",
       "                                                 (&#x27;ordinal&#x27;,\n",
       "                                                  Pipeline(steps=[(&#x27;encoder&#x27;,\n",
       "                                                                   OrdinalEncoder())]),\n",
       "                                                  [&#x27;grade&#x27;])])),\n",
       "                (&#x27;feature_selection&#x27;,\n",
       "                 SelectFromModel(estimator=DecisionTreeClassifier(random_state=42))),\n",
       "                (&#x27;classifier&#x27;, LogisticRegression(max_iter=1000))])</pre></div></div></div><div class=\"sk-serial\"><div class=\"sk-item sk-dashed-wrapped\"><div class=\"sk-label-container\"><div class=\"sk-label sk-toggleable\"><input class=\"sk-toggleable__control sk-hidden--visually\" id=\"sk-estimator-id-13\" type=\"checkbox\" ><label for=\"sk-estimator-id-13\" class=\"sk-toggleable__label sk-toggleable__label-arrow\">preprocessor: ColumnTransformer</label><div class=\"sk-toggleable__content\"><pre>ColumnTransformer(transformers=[(&#x27;nominal&#x27;,\n",
       "                                 Pipeline(steps=[(&#x27;imputer&#x27;,\n",
       "                                                  SimpleImputer(strategy=&#x27;most_frequent&#x27;)),\n",
       "                                                 (&#x27;encoder&#x27;, OneHotEncoder())]),\n",
       "                                 [&#x27;home_ownership&#x27;, &#x27;purpose&#x27;,\n",
       "                                  &#x27;verification_status&#x27;, &#x27;application_type&#x27;,\n",
       "                                  &#x27;initial_list_status&#x27;, &#x27;pymnt_plan&#x27;]),\n",
       "                                (&#x27;continuous&#x27;,\n",
       "                                 Pipeline(steps=[(&#x27;imputer&#x27;, SimpleImputer()),\n",
       "                                                 (&#x27;scaler&#x27;, StandardScaler())]),\n",
       "                                 [&#x27;loan_amnt&#x27;, &#x27;installment&#x27;, &#x27;funded_amnt&#x27;,\n",
       "                                  &#x27;funded_amnt_inv&#x27;, &#x27;annual_inc&#x27;, &#x27;int_rate&#x27;,\n",
       "                                  &#x27;dti&#x27;, &#x27;delinq_2yrs&#x27;, &#x27;revol_bal&#x27;,\n",
       "                                  &#x27;total_acc&#x27;, &#x27;acc_now_delinq&#x27;, &#x27;revol_util&#x27;,\n",
       "                                  &#x27;open_acc&#x27;, &#x27;inq_last_6mths&#x27;, &#x27;pub_rec&#x27;]),\n",
       "                                (&#x27;ordinal&#x27;,\n",
       "                                 Pipeline(steps=[(&#x27;encoder&#x27;,\n",
       "                                                  OrdinalEncoder())]),\n",
       "                                 [&#x27;grade&#x27;])])</pre></div></div></div><div class=\"sk-parallel\"><div class=\"sk-parallel-item\"><div class=\"sk-item\"><div class=\"sk-label-container\"><div class=\"sk-label sk-toggleable\"><input class=\"sk-toggleable__control sk-hidden--visually\" id=\"sk-estimator-id-14\" type=\"checkbox\" ><label for=\"sk-estimator-id-14\" class=\"sk-toggleable__label sk-toggleable__label-arrow\">nominal</label><div class=\"sk-toggleable__content\"><pre>[&#x27;home_ownership&#x27;, &#x27;purpose&#x27;, &#x27;verification_status&#x27;, &#x27;application_type&#x27;, &#x27;initial_list_status&#x27;, &#x27;pymnt_plan&#x27;]</pre></div></div></div><div class=\"sk-serial\"><div class=\"sk-item\"><div class=\"sk-serial\"><div class=\"sk-item\"><div class=\"sk-estimator sk-toggleable\"><input class=\"sk-toggleable__control sk-hidden--visually\" id=\"sk-estimator-id-15\" type=\"checkbox\" ><label for=\"sk-estimator-id-15\" class=\"sk-toggleable__label sk-toggleable__label-arrow\">SimpleImputer</label><div class=\"sk-toggleable__content\"><pre>SimpleImputer(strategy=&#x27;most_frequent&#x27;)</pre></div></div></div><div class=\"sk-item\"><div class=\"sk-estimator sk-toggleable\"><input class=\"sk-toggleable__control sk-hidden--visually\" id=\"sk-estimator-id-16\" type=\"checkbox\" ><label for=\"sk-estimator-id-16\" class=\"sk-toggleable__label sk-toggleable__label-arrow\">OneHotEncoder</label><div class=\"sk-toggleable__content\"><pre>OneHotEncoder()</pre></div></div></div></div></div></div></div></div><div class=\"sk-parallel-item\"><div class=\"sk-item\"><div class=\"sk-label-container\"><div class=\"sk-label sk-toggleable\"><input class=\"sk-toggleable__control sk-hidden--visually\" id=\"sk-estimator-id-17\" type=\"checkbox\" ><label for=\"sk-estimator-id-17\" class=\"sk-toggleable__label sk-toggleable__label-arrow\">continuous</label><div class=\"sk-toggleable__content\"><pre>[&#x27;loan_amnt&#x27;, &#x27;installment&#x27;, &#x27;funded_amnt&#x27;, &#x27;funded_amnt_inv&#x27;, &#x27;annual_inc&#x27;, &#x27;int_rate&#x27;, &#x27;dti&#x27;, &#x27;delinq_2yrs&#x27;, &#x27;revol_bal&#x27;, &#x27;total_acc&#x27;, &#x27;acc_now_delinq&#x27;, &#x27;revol_util&#x27;, &#x27;open_acc&#x27;, &#x27;inq_last_6mths&#x27;, &#x27;pub_rec&#x27;]</pre></div></div></div><div class=\"sk-serial\"><div class=\"sk-item\"><div class=\"sk-serial\"><div class=\"sk-item\"><div class=\"sk-estimator sk-toggleable\"><input class=\"sk-toggleable__control sk-hidden--visually\" id=\"sk-estimator-id-18\" type=\"checkbox\" ><label for=\"sk-estimator-id-18\" class=\"sk-toggleable__label sk-toggleable__label-arrow\">SimpleImputer</label><div class=\"sk-toggleable__content\"><pre>SimpleImputer()</pre></div></div></div><div class=\"sk-item\"><div class=\"sk-estimator sk-toggleable\"><input class=\"sk-toggleable__control sk-hidden--visually\" id=\"sk-estimator-id-19\" type=\"checkbox\" ><label for=\"sk-estimator-id-19\" class=\"sk-toggleable__label sk-toggleable__label-arrow\">StandardScaler</label><div class=\"sk-toggleable__content\"><pre>StandardScaler()</pre></div></div></div></div></div></div></div></div><div class=\"sk-parallel-item\"><div class=\"sk-item\"><div class=\"sk-label-container\"><div class=\"sk-label sk-toggleable\"><input class=\"sk-toggleable__control sk-hidden--visually\" id=\"sk-estimator-id-20\" type=\"checkbox\" ><label for=\"sk-estimator-id-20\" class=\"sk-toggleable__label sk-toggleable__label-arrow\">ordinal</label><div class=\"sk-toggleable__content\"><pre>[&#x27;grade&#x27;]</pre></div></div></div><div class=\"sk-serial\"><div class=\"sk-item\"><div class=\"sk-serial\"><div class=\"sk-item\"><div class=\"sk-estimator sk-toggleable\"><input class=\"sk-toggleable__control sk-hidden--visually\" id=\"sk-estimator-id-21\" type=\"checkbox\" ><label for=\"sk-estimator-id-21\" class=\"sk-toggleable__label sk-toggleable__label-arrow\">OrdinalEncoder</label><div class=\"sk-toggleable__content\"><pre>OrdinalEncoder()</pre></div></div></div></div></div></div></div></div></div></div><div class=\"sk-item sk-dashed-wrapped\"><div class=\"sk-label-container\"><div class=\"sk-label sk-toggleable\"><input class=\"sk-toggleable__control sk-hidden--visually\" id=\"sk-estimator-id-22\" type=\"checkbox\" ><label for=\"sk-estimator-id-22\" class=\"sk-toggleable__label sk-toggleable__label-arrow\">feature_selection: SelectFromModel</label><div class=\"sk-toggleable__content\"><pre>SelectFromModel(estimator=DecisionTreeClassifier(random_state=42))</pre></div></div></div><div class=\"sk-parallel\"><div class=\"sk-parallel-item\"><div class=\"sk-item\"><div class=\"sk-label-container\"><div class=\"sk-label sk-toggleable\"><input class=\"sk-toggleable__control sk-hidden--visually\" id=\"sk-estimator-id-23\" type=\"checkbox\" ><label for=\"sk-estimator-id-23\" class=\"sk-toggleable__label sk-toggleable__label-arrow\">estimator: DecisionTreeClassifier</label><div class=\"sk-toggleable__content\"><pre>DecisionTreeClassifier(random_state=42)</pre></div></div></div><div class=\"sk-serial\"><div class=\"sk-item\"><div class=\"sk-estimator sk-toggleable\"><input class=\"sk-toggleable__control sk-hidden--visually\" id=\"sk-estimator-id-24\" type=\"checkbox\" ><label for=\"sk-estimator-id-24\" class=\"sk-toggleable__label sk-toggleable__label-arrow\">DecisionTreeClassifier</label><div class=\"sk-toggleable__content\"><pre>DecisionTreeClassifier(random_state=42)</pre></div></div></div></div></div></div></div></div><div class=\"sk-item\"><div class=\"sk-estimator sk-toggleable\"><input class=\"sk-toggleable__control sk-hidden--visually\" id=\"sk-estimator-id-25\" type=\"checkbox\" ><label for=\"sk-estimator-id-25\" class=\"sk-toggleable__label sk-toggleable__label-arrow\">LogisticRegression</label><div class=\"sk-toggleable__content\"><pre>LogisticRegression(max_iter=1000)</pre></div></div></div></div></div></div></div>"
      ],
      "text/plain": [
       "Pipeline(steps=[('preprocessor',\n",
       "                 ColumnTransformer(transformers=[('nominal',\n",
       "                                                  Pipeline(steps=[('imputer',\n",
       "                                                                   SimpleImputer(strategy='most_frequent')),\n",
       "                                                                  ('encoder',\n",
       "                                                                   OneHotEncoder())]),\n",
       "                                                  ['home_ownership', 'purpose',\n",
       "                                                   'verification_status',\n",
       "                                                   'application_type',\n",
       "                                                   'initial_list_status',\n",
       "                                                   'pymnt_plan']),\n",
       "                                                 ('continuous',\n",
       "                                                  Pipeline(steps=[('imputer',\n",
       "                                                                   SimpleImputer()),\n",
       "                                                                  ('scaler',\n",
       "                                                                   Sta...\n",
       "                                                   'funded_amnt_inv',\n",
       "                                                   'annual_inc', 'int_rate',\n",
       "                                                   'dti', 'delinq_2yrs',\n",
       "                                                   'revol_bal', 'total_acc',\n",
       "                                                   'acc_now_delinq',\n",
       "                                                   'revol_util', 'open_acc',\n",
       "                                                   'inq_last_6mths',\n",
       "                                                   'pub_rec']),\n",
       "                                                 ('ordinal',\n",
       "                                                  Pipeline(steps=[('encoder',\n",
       "                                                                   OrdinalEncoder())]),\n",
       "                                                  ['grade'])])),\n",
       "                ('feature_selection',\n",
       "                 SelectFromModel(estimator=DecisionTreeClassifier(random_state=42))),\n",
       "                ('classifier', LogisticRegression(max_iter=1000))])"
      ]
     },
     "execution_count": 24,
     "metadata": {},
     "output_type": "execute_result"
    }
   ],
   "source": [
    "pipeline = Pipeline(steps=[\n",
    "    ('preprocessor', preprocessor),\n",
    "    ('feature_selection', SelectFromModel(DecisionTreeClassifier(random_state=42))),\n",
    "    ('classifier', LogisticRegression(max_iter = 1000))\n",
    "])\n",
    "\n",
    "pipeline.fit(X_train, y_train)"
   ]
  },
  {
   "cell_type": "code",
   "execution_count": 25,
   "id": "a8b04e45-1dcf-47d3-92cd-9188b980adab",
   "metadata": {},
   "outputs": [
    {
     "name": "stdout",
     "output_type": "stream",
     "text": [
      "AUC Score:  0.7323003108135538\n"
     ]
    }
   ],
   "source": [
    "pipeline.fit(X_train, y_train)\n",
    "y_pred_proba = pipeline.predict_proba(X_test)[:,1]\n",
    "\n",
    "auc_score = roc_auc_score(y_test, y_pred_proba)\n",
    "print(\"AUC Score: \", auc_score)"
   ]
  },
  {
   "cell_type": "code",
   "execution_count": null,
   "id": "178a0e63-444c-4a46-a69f-9bc4fab3f934",
   "metadata": {},
   "outputs": [],
   "source": []
  },
  {
   "cell_type": "code",
   "execution_count": null,
   "id": "5b72a05e-3d6d-4b3d-b6be-a8b9c4ad6b13",
   "metadata": {},
   "outputs": [],
   "source": []
  },
  {
   "cell_type": "code",
   "execution_count": null,
   "id": "48293746-7b86-444c-9473-c6eba2e77623",
   "metadata": {},
   "outputs": [],
   "source": []
  },
  {
   "cell_type": "code",
   "execution_count": 102,
   "id": "1fb8d1f1-36b5-4a0a-87e5-8d8526a072ed",
   "metadata": {},
   "outputs": [
    {
     "name": "stdout",
     "output_type": "stream",
     "text": [
      "Fitting 5 folds for each of 8 candidates, totalling 40 fits\n"
     ]
    },
    {
     "name": "stderr",
     "output_type": "stream",
     "text": [
      "/Users/beautse/opt/anaconda3/lib/python3.9/site-packages/sklearn/model_selection/_validation.py:378: FitFailedWarning: \n",
      "20 fits failed out of a total of 40.\n",
      "The score on these train-test partitions for these parameters will be set to nan.\n",
      "If these failures are not expected, you can try to debug them by setting error_score='raise'.\n",
      "\n",
      "Below are more details about the failures:\n",
      "--------------------------------------------------------------------------------\n",
      "20 fits failed with the following error:\n",
      "Traceback (most recent call last):\n",
      "  File \"/Users/beautse/opt/anaconda3/lib/python3.9/site-packages/sklearn/model_selection/_validation.py\", line 686, in _fit_and_score\n",
      "    estimator.fit(X_train, y_train, **fit_params)\n",
      "  File \"/Users/beautse/opt/anaconda3/lib/python3.9/site-packages/sklearn/pipeline.py\", line 405, in fit\n",
      "    self._final_estimator.fit(Xt, y, **fit_params_last_step)\n",
      "  File \"/Users/beautse/opt/anaconda3/lib/python3.9/site-packages/sklearn/linear_model/_logistic.py\", line 1162, in fit\n",
      "    solver = _check_solver(self.solver, self.penalty, self.dual)\n",
      "  File \"/Users/beautse/opt/anaconda3/lib/python3.9/site-packages/sklearn/linear_model/_logistic.py\", line 54, in _check_solver\n",
      "    raise ValueError(\n",
      "ValueError: Solver lbfgs supports only 'l2' or 'none' penalties, got l1 penalty.\n",
      "\n",
      "  warnings.warn(some_fits_failed_message, FitFailedWarning)\n",
      "/Users/beautse/opt/anaconda3/lib/python3.9/site-packages/sklearn/model_selection/_search.py:952: UserWarning: One or more of the test scores are non-finite: [       nan 0.69929155        nan 0.6995313         nan 0.69955009\n",
      "        nan 0.69955141]\n",
      "  warnings.warn(\n"
     ]
    },
    {
     "name": "stdout",
     "output_type": "stream",
     "text": [
      "Best parameters found:  {'classifier__C': 10, 'classifier__penalty': 'l2'}\n",
      "AUC Score:  0.6989960097588532\n"
     ]
    }
   ],
   "source": [
    "param_grid = {\n",
    "    'classifier__C': [0.01, 0.1, 1, 10],\n",
    "    'classifier__penalty': ['l1', 'l2']\n",
    "}\n",
    "\n",
    "auc_scorer = make_scorer(roc_auc_score, needs_proba=True)\n",
    "\n",
    "grid_search = GridSearchCV(pipeline, param_grid, cv=5, scoring=auc_scorer, verbose=1, n_jobs=-1)\n",
    "\n",
    "grid_search.fit(X_train, y_train)\n",
    "\n",
    "print(\"Best parameters found: \", grid_search.best_params_)\n",
    "\n",
    "y_pred_proba = grid_search.predict_proba(X_test)[:,1]\n",
    "\n",
    "auc_score = roc_auc_score(y_test, y_pred_proba)\n",
    "print(\"AUC Score: \", auc_score)"
   ]
  },
  {
   "cell_type": "markdown",
   "id": "5290ddb0",
   "metadata": {
    "id": "5290ddb0"
   },
   "source": [
    "## Trying Out Models\n",
    "\n",
    "Here, you want to try each type of machine learning model and perform the train-test-loop: identify the best hyperparameters for the model to perform well in training and validation. GridSearchCV is likely relevant."
   ]
  },
  {
   "cell_type": "markdown",
   "id": "c25f0117",
   "metadata": {
    "id": "c25f0117"
   },
   "source": [
    "### Logistic Regression"
   ]
  },
  {
   "cell_type": "code",
   "execution_count": 24,
   "id": "2be87966",
   "metadata": {
    "colab": {
     "base_uri": "https://localhost:8080/"
    },
    "executionInfo": {
     "elapsed": 208,
     "status": "ok",
     "timestamp": 1708568907884,
     "user": {
      "displayName": "Davin Patel",
      "userId": "13701795561443417032"
     },
     "user_tz": 480
    },
    "id": "2be87966",
    "outputId": "68df5a8f-1d9b-4e08-a07c-55315b020ea1"
   },
   "outputs": [
    {
     "name": "stdout",
     "output_type": "stream",
     "text": [
      "DataFrame columns: ['loan_amnt', 'funded_amnt', 'funded_amnt_inv', 'int_rate', 'installment', 'emp_length', 'home_ownership', 'annual_inc', 'verification_status', 'pymnt_plan', 'purpose', 'application_type', 'binary_loan_status']\n",
      "Continous columns: ['loan_amnt', 'int_rate', 'installment', 'funded_amnt', 'funded_amnt_inv', 'annual_inc']\n",
      "Nominal columns: ['purpose', 'verification_status', 'emp_length', 'home_ownership', 'application_type', 'pymnt_plan']\n",
      "All specified columns are present in the DataFrame.\n"
     ]
    }
   ],
   "source": [
    "# Print all column names from the DataFrame\n",
    "print(\"DataFrame columns:\", df_cleaned.columns.tolist())\n",
    "\n",
    "# Print specified column names for each transformer\n",
    "print(\"Continous columns:\", continuous_columns)\n",
    "print(\"Nominal columns:\", nominal_columns)\n",
    "\n",
    "# Check for any specified columns that are not in the DataFrame\n",
    "all_specified_columns = set(continuous_columns +  nominal_columns)\n",
    "missing_columns = [col for col in all_specified_columns if col not in df_cleaned.columns]\n",
    "if missing_columns:\n",
    "    print(\"Missing columns in DataFrame:\", missing_columns)\n",
    "else:\n",
    "    print(\"All specified columns are present in the DataFrame.\")\n"
   ]
  },
  {
   "cell_type": "code",
   "execution_count": 25,
   "id": "de6148f9",
   "metadata": {
    "colab": {
     "base_uri": "https://localhost:8080/"
    },
    "executionInfo": {
     "elapsed": 262389,
     "status": "ok",
     "timestamp": 1708569244183,
     "user": {
      "displayName": "Davin Patel",
      "userId": "13701795561443417032"
     },
     "user_tz": 480
    },
    "id": "de6148f9",
    "outputId": "75ccc45f-a306-4e91-9219-bb635d2683a8"
   },
   "outputs": [
    {
     "name": "stdout",
     "output_type": "stream",
     "text": [
      "Fitting 5 folds for each of 12 candidates, totalling 60 fits\n",
      "Best parameters found:  {'classifier__C': 0.1, 'classifier__penalty': 'l1'}\n",
      "AUC Score:  0.5800350011247017\n"
     ]
    }
   ],
   "source": [
    "from sklearn.feature_selection import SelectFromModel\n",
    "from sklearn.metrics import make_scorer\n",
    "\n",
    "# Define the logistic regression pipeline with feature selection\n",
    "pipeline = Pipeline(steps=[\n",
    "    ('preprocessor', preprocessor),\n",
    "    ('feature_selection', SelectFromModel(DecisionTreeClassifier(random_state=42))),\n",
    "    ('classifier', LogisticRegression(solver='liblinear'))\n",
    "])\n",
    "\n",
    "# Parameters of the logistic regression and feature selection to be tuned through cross-validation\n",
    "param_grid = {\n",
    "    'classifier__C': [0.001, 0.01, 0.1, 1, 10, 100],\n",
    "    'classifier__penalty': ['l1', 'l2']\n",
    "}\n",
    "\n",
    "# Custom scorer for optimizing the hyperparameters based on AUC\n",
    "auc_scorer = make_scorer(roc_auc_score, needs_proba=True)\n",
    "\n",
    "# Grid search with cross-validation\n",
    "grid_search = GridSearchCV(pipeline, param_grid, cv=5, scoring=auc_scorer, verbose=1, n_jobs=-1)\n",
    "\n",
    "# Fit the grid search to the data\n",
    "grid_search.fit(X_train, y_train)\n",
    "\n",
    "# Best parameters found\n",
    "print(\"Best parameters found: \", grid_search.best_params_)\n",
    "\n",
    "# Predict probabilities on the test set\n",
    "y_pred_proba = grid_search.predict_proba(X_test)[:,1]\n",
    "\n",
    "# Compute AUC score\n",
    "auc_score = roc_auc_score(y_test, y_pred_proba)\n",
    "print(\"AUC Score: \", auc_score)"
   ]
  },
  {
   "cell_type": "markdown",
   "id": "b4490348",
   "metadata": {
    "id": "b4490348"
   },
   "source": [
    "### Support Vector Machine"
   ]
  },
  {
   "cell_type": "code",
   "execution_count": null,
   "id": "1b6d516a",
   "metadata": {
    "executionInfo": {
     "elapsed": 22,
     "status": "aborted",
     "timestamp": 1708566363742,
     "user": {
      "displayName": "Davin Patel",
      "userId": "13701795561443417032"
     },
     "user_tz": 480
    },
    "id": "1b6d516a"
   },
   "outputs": [],
   "source": [
    "# Import necessary libraries\n",
    "from sklearn.svm import SVC\n",
    "from sklearn.model_selection import GridSearchCV\n",
    "from sklearn.metrics import roc_auc_score\n",
    "from sklearn.pipeline import Pipeline\n",
    "\n",
    "# Define the pipeline\n",
    "# The preprocessor has already been defined in your provided code\n",
    "svm_pipeline = Pipeline(steps=[\n",
    "    ('preprocessor', preprocessor),\n",
    "    ('classifier', SVC(probability=True, random_state=42))\n",
    "])\n",
    "\n",
    "# Parameter grid for GridSearchCV\n",
    "param_grid = {\n",
    "    'classifier__C': [0.1, 1, 10],\n",
    "    'classifier__gamma': ['scale', 'auto'],\n",
    "    'classifier__kernel': ['rbf', 'linear']\n",
    "}\n",
    "\n",
    "# Setup the GridSearchCV\n",
    "grid_search = GridSearchCV(svm_pipeline, param_grid, cv=5, scoring='roc_auc', verbose=2, n_jobs=-1)\n",
    "\n",
    "# Fit the model\n",
    "grid_search.fit(X_train, y_train)\n",
    "\n",
    "# Best parameters found\n",
    "print(\"Best parameters found: \", grid_search.best_params_)\n",
    "\n",
    "# Predict probabilities on the test set\n",
    "y_prob = grid_search.predict_proba(X_test)[:, 1]\n",
    "\n",
    "# Calculate AUC score\n",
    "auc_score = roc_auc_score(y_test, y_prob)\n",
    "print(f\"The AUC score for the optimized SVM model is: {auc_score:.4f}\")\n"
   ]
  },
  {
   "cell_type": "markdown",
   "id": "47702d54",
   "metadata": {
    "id": "47702d54"
   },
   "source": [
    "### Decision Trees (Random Forest, Gradient Boosting, XGBoost)"
   ]
  },
  {
   "cell_type": "code",
   "execution_count": null,
   "id": "972d2373",
   "metadata": {
    "executionInfo": {
     "elapsed": 23,
     "status": "aborted",
     "timestamp": 1708566363743,
     "user": {
      "displayName": "Davin Patel",
      "userId": "13701795561443417032"
     },
     "user_tz": 480
    },
    "id": "972d2373"
   },
   "outputs": [],
   "source": [
    "from sklearn.metrics import roc_curve, auc\n",
    "\n",
    "# Initialize the Decision Tree Classifier\n",
    "dt_classifier = DecisionTreeClassifier(random_state=42)\n",
    "\n",
    "# Setup the pipeline for preprocessing and model\n",
    "pipeline = Pipeline(steps=[('preprocessor', preprocessor),\n",
    "                           ('classifier', dt_classifier)])\n",
    "\n",
    "# Parameters to search for the Decision Tree Classifier\n",
    "param_grid = {\n",
    "    'classifier__max_depth': [3, 5, 10, None],\n",
    "    'classifier__min_samples_split': [2, 5, 10],\n",
    "    'classifier__min_samples_leaf': [1, 2, 5],\n",
    "    'classifier__criterion': ['gini', 'entropy']\n",
    "}\n",
    "\n",
    "# Setup GridSearchCV to find the best parameters using cross-validation\n",
    "grid_search = GridSearchCV(pipeline, param_grid, cv=5, scoring='roc_auc', verbose=1)\n",
    "\n",
    "# Fit the model\n",
    "grid_search.fit(X_train, y_train)\n",
    "\n",
    "# Print the best parameters\n",
    "print(\"Best parameters found: \", grid_search.best_params_)\n",
    "\n",
    "# Predict probabilities for the test set\n",
    "y_pred_proba = grid_search.predict_proba(X_test)[:,1]\n",
    "\n",
    "# Calculate AUC\n",
    "auc_score = roc_auc_score(y_test, y_pred_proba)\n",
    "print(\"AUC Score: \", auc_score)\n"
   ]
  },
  {
   "cell_type": "code",
   "execution_count": null,
   "id": "d9462965",
   "metadata": {
    "executionInfo": {
     "elapsed": 24,
     "status": "aborted",
     "timestamp": 1708566363744,
     "user": {
      "displayName": "Davin Patel",
      "userId": "13701795561443417032"
     },
     "user_tz": 480
    },
    "id": "d9462965"
   },
   "outputs": [],
   "source": [
    "from sklearn.metrics import roc_auc_score\n",
    "\n",
    "# Define the pipeline steps\n",
    "pipeline_steps = [\n",
    "    ('preprocessor', preprocessor),\n",
    "    ('classifier', GradientBoostingClassifier(random_state=42))\n",
    "]\n",
    "\n",
    "# Create the pipeline\n",
    "pipeline = Pipeline(steps=pipeline_steps)\n",
    "\n",
    "# Define the parameter grid for GridSearchCV\n",
    "param_grid = {\n",
    "    'classifier__n_estimators': [100, 200, 300],\n",
    "    'classifier__learning_rate': [0.01, 0.1, 0.2],\n",
    "    'classifier__max_depth': [3, 4, 5]\n",
    "}\n",
    "\n",
    "# Initialize GridSearchCV with the pipeline and parameter grid\n",
    "grid_search = GridSearchCV(pipeline, param_grid, cv=5, scoring='roc_auc', verbose=1, n_jobs=-1)\n",
    "\n",
    "# Fit the GridSearchCV to the training data\n",
    "grid_search.fit(X_train, y_train)\n",
    "\n",
    "# Print the best parameters and the best score\n",
    "print(\"Best parameters found: \", grid_search.best_params_)\n",
    "print(\"Best AUC score found: \", grid_search.best_score_)\n",
    "\n",
    "# Predict on the test set\n",
    "y_pred_prob = grid_search.predict_proba(X_test)[:, 1]\n",
    "\n",
    "# Calculate AUC score on the test set\n",
    "test_auc_score = roc_auc_score(y_test, y_pred_prob)\n",
    "print(\"AUC score on the test set: \", test_auc_score)\n"
   ]
  },
  {
   "cell_type": "code",
   "execution_count": null,
   "id": "5f92d9d0",
   "metadata": {
    "executionInfo": {
     "elapsed": 24,
     "status": "aborted",
     "timestamp": 1708566363745,
     "user": {
      "displayName": "Davin Patel",
      "userId": "13701795561443417032"
     },
     "user_tz": 480
    },
    "id": "5f92d9d0"
   },
   "outputs": [],
   "source": [
    "from sklearn.metrics import roc_auc_score\n",
    "from sklearn.model_selection import GridSearchCV\n",
    "\n",
    "# Define a pipeline that includes the preprocessing steps and the classifier\n",
    "model_pipeline = Pipeline(steps=[\n",
    "    ('preprocessor', preprocessor),\n",
    "    ('classifier', XGBClassifier(use_label_encoder=False, eval_metric='logloss'))\n",
    "])\n",
    "\n",
    "# Define the hyperparameter space for the XGBoost model\n",
    "param_grid = {\n",
    "    'classifier__n_estimators': [100, 200, 300],\n",
    "    'classifier__max_depth': [3, 6, 9],\n",
    "    'classifier__learning_rate': [0.01, 0.1, 0.2],\n",
    "    'classifier__subsample': [0.8, 0.9, 1],\n",
    "    'classifier__colsample_bytree': [0.8, 0.9, 1]\n",
    "}\n",
    "\n",
    "# Initialize the GridSearchCV object\n",
    "grid_search = GridSearchCV(model_pipeline, param_grid, cv=5, scoring='roc_auc', n_jobs=-1)\n",
    "\n",
    "# Fit the model to the training data\n",
    "grid_search.fit(X_train, y_train)\n",
    "\n",
    "# Print the best parameters and best score\n",
    "print(\"Best parameters found: \", grid_search.best_params_)\n",
    "print(\"Best AUC found: \", grid_search.best_score_)\n",
    "\n",
    "# Evaluate the model on the test set\n",
    "y_pred_proba = grid_search.predict_proba(X_test)[:,1]\n",
    "auc_score = roc_auc_score(y_test, y_pred_proba)\n",
    "print(\"AUC Score on Test Set: \", auc_score)\n"
   ]
  },
  {
   "cell_type": "markdown",
   "id": "48d04428",
   "metadata": {
    "id": "48d04428"
   },
   "source": [
    "### Other Models (e.g. Bagging Classifier)"
   ]
  },
  {
   "cell_type": "code",
   "execution_count": null,
   "id": "3257f5fc",
   "metadata": {
    "executionInfo": {
     "elapsed": 26,
     "status": "aborted",
     "timestamp": 1708566363747,
     "user": {
      "displayName": "Davin Patel",
      "userId": "13701795561443417032"
     },
     "user_tz": 480
    },
    "id": "3257f5fc"
   },
   "outputs": [],
   "source": [
    "from sklearn.ensemble import BaggingClassifier\n",
    "from sklearn.metrics import roc_auc_score\n",
    "\n",
    "# Define the base estimator\n",
    "base_estimator = DecisionTreeClassifier(random_state=42)\n",
    "\n",
    "# Initialize the BaggingClassifier with the Decision Tree as the base estimator\n",
    "bagging_clf = BaggingClassifier(base_estimator=base_estimator, random_state=42)\n",
    "\n",
    "# Create a pipeline with preprocessing and the classifier\n",
    "pipeline = Pipeline(steps=[('preprocessor', preprocessor),\n",
    "                           ('classifier', bagging_clf)])\n",
    "\n",
    "# Define the parameter grid to search over\n",
    "param_grid = {\n",
    "    'classifier__n_estimators': [10, 50, 100],  # Example: trying 10, 50, and 100 trees in the ensemble\n",
    "    # Add other parameters here if you wish to tune them\n",
    "}\n",
    "\n",
    "# Set up the GridSearchCV to find the best parameters for both the model and preprocessing\n",
    "grid_search = GridSearchCV(pipeline, param_grid, cv=5, scoring='roc_auc', verbose=2)\n",
    "\n",
    "# Fit the grid search to the data\n",
    "grid_search.fit(X_train, y_train)\n",
    "\n",
    "# Best parameter set found\n",
    "print(\"Best parameters found: \", grid_search.best_params_)\n",
    "\n",
    "# Predict on the test set\n",
    "y_pred_proba = grid_search.predict_proba(X_test)[:, 1]\n",
    "\n",
    "# Calculate AUC\n",
    "auc_score = roc_auc_score(y_test, y_pred_proba)\n",
    "print(f\"AUC Score: {auc_score:.4f}\")\n"
   ]
  },
  {
   "cell_type": "markdown",
   "id": "3ece7d77",
   "metadata": {
    "id": "3ece7d77"
   },
   "source": [
    "## Model Evaluation\n",
    "\n",
    "Compare the best models' performance on the test data. Which one does the best? Which one the worst? Why do you think this is the case?"
   ]
  },
  {
   "cell_type": "code",
   "execution_count": null,
   "id": "a48ed303",
   "metadata": {
    "executionInfo": {
     "elapsed": 24,
     "status": "aborted",
     "timestamp": 1708566363747,
     "user": {
      "displayName": "Davin Patel",
      "userId": "13701795561443417032"
     },
     "user_tz": 480
    },
    "id": "a48ed303"
   },
   "outputs": [],
   "source": []
  }
 ],
 "metadata": {
  "colab": {
   "provenance": []
  },
  "kernelspec": {
   "display_name": "Python 3 (ipykernel)",
   "language": "python",
   "name": "python3"
  },
  "language_info": {
   "codemirror_mode": {
    "name": "ipython",
    "version": 3
   },
   "file_extension": ".py",
   "mimetype": "text/x-python",
   "name": "python",
   "nbconvert_exporter": "python",
   "pygments_lexer": "ipython3",
   "version": "3.9.18"
  },
  "toc": {
   "base_numbering": 1,
   "nav_menu": {},
   "number_sections": true,
   "sideBar": true,
   "skip_h1_title": true,
   "title_cell": "Table of Contents",
   "title_sidebar": "Contents",
   "toc_cell": true,
   "toc_position": {},
   "toc_section_display": true,
   "toc_window_display": true
  }
 },
 "nbformat": 4,
 "nbformat_minor": 5
}
